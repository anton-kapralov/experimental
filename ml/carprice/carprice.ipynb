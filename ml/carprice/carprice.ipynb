{
 "cells": [
  {
   "cell_type": "code",
   "execution_count": null,
   "metadata": {
    "collapsed": true
   },
   "outputs": [],
   "source": [
    "import pandas as pd\n",
    "import plotly.express as px\n"
   ]
  },
  {
   "cell_type": "code",
   "execution_count": null,
   "outputs": [],
   "source": [
    "# Gradient Descent\n",
    "def mse(xs, ys, w, b):\n",
    "  e = 0.0\n",
    "\n",
    "  n = len(xs)\n",
    "  for i in range(n):\n",
    "    e += (ys[i] - (w*xs[i] + b))**2\n",
    "  e /= float(n)\n",
    "\n",
    "  return e\n",
    "\n",
    "def update_w_and_b(xs, ys, w, b, a):\n",
    "  dl_dw = 0.0\n",
    "  dl_db = 0.0\n",
    "\n",
    "  n = len(xs)\n",
    "  for i in range(n):\n",
    "    dl_dw += -2 * xs[i] * (ys[i] - (w*xs[i] + b))\n",
    "    dl_db += -2  * (ys[i] - (w*xs[i] + b))\n",
    "  dl_dw /= float(n)\n",
    "  dl_db /= float(n)\n",
    "\n",
    "  w -= a * dl_dw\n",
    "  b -= a * dl_db\n",
    "\n",
    "  return w, b\n",
    "\n",
    "def train(xs, ys, w, b, a, epochs):\n",
    "  for i in range(epochs):\n",
    "    w, b = update_w_and_b(xs, ys, w, b, a)\n",
    "\n",
    "    if i % 400 == 0:\n",
    "      print(\"epoch: \", i, \"; loss: \", mse(xs, ys, w, b))\n",
    "\n",
    "  return w, b\n",
    "\n",
    "def predict(x, w, b):\n",
    "  return w * x + b\n"
   ],
   "metadata": {
    "collapsed": false
   }
  },
  {
   "cell_type": "code",
   "execution_count": null,
   "outputs": [],
   "source": [
    "df = pd.read_csv(\"/Users/akapralov/tmp/vehicles.csv\")\\\n",
    "  .filter(items=[\"manufacturer\", \"model\", \"year\", \"price\"])\\\n",
    "  .query(\"year >= 2012 & price > 5000\")\n",
    "print(df)\n"
   ],
   "metadata": {
    "collapsed": false
   }
  },
  {
   "cell_type": "code",
   "execution_count": null,
   "outputs": [],
   "source": [
    "stats = df.groupby([\"manufacturer\", \"model\"])\\\n",
    "  .size()\\\n",
    "  .reset_index(name='counts')\\\n",
    "  .sort_values(by=\"counts\",ascending=False)\n",
    "print(stats)\n"
   ],
   "metadata": {
    "collapsed": false
   }
  },
  {
   "cell_type": "code",
   "execution_count": null,
   "outputs": [],
   "source": [
    "prices = df.query(\"manufacturer == 'ford' & model == 'f-150'\").filter(items=[\"year\", \"price\"])\n",
    "prices.price = prices.price.apply(lambda x: float(x) / 1000)\n",
    "prices[\"age\"] = prices.year.apply(lambda x: 2022 - x)\n",
    "print(prices)"
   ],
   "metadata": {
    "collapsed": false
   }
  },
  {
   "cell_type": "code",
   "execution_count": null,
   "outputs": [],
   "source": [
    "fig = px.scatter(prices, y=\"price\", x=\"age\")\n",
    "fig.show()\n"
   ],
   "metadata": {
    "collapsed": false
   }
  },
  {
   "cell_type": "code",
   "execution_count": null,
   "outputs": [],
   "source": [
    "w, b = train(prices.age.values, prices.price.values, 0.0, 0.0, 0.001, 15000)\n",
    "print(\"w: \", w, \"; b: \", b)\n"
   ],
   "metadata": {
    "collapsed": false
   }
  },
  {
   "cell_type": "code",
   "execution_count": null,
   "outputs": [],
   "source": [
    "fig = px.scatter(prices, y=\"price\", x=\"age\")\n",
    "fig.add_shape(type=\"line\", x0=1, y0=predict(1, w, b), x1=10, y1=predict(10, w, b))\n",
    "fig.show()\n"
   ],
   "metadata": {
    "collapsed": false
   }
  },
  {
   "cell_type": "code",
   "execution_count": null,
   "outputs": [],
   "source": [
    "from sklearn.linear_model import LinearRegression\n",
    "model = LinearRegression().fit(X=prices[['age']], y=prices.price)\n",
    "print(model.predict(pd.DataFrame({'age': [2, 4, 6, 8, 10]})))\n"
   ],
   "metadata": {
    "collapsed": false
   }
  }
 ],
 "metadata": {
  "kernelspec": {
   "display_name": "Python 3",
   "language": "python",
   "name": "python3"
  },
  "language_info": {
   "codemirror_mode": {
    "name": "ipython",
    "version": 2
   },
   "file_extension": ".py",
   "mimetype": "text/x-python",
   "name": "python",
   "nbconvert_exporter": "python",
   "pygments_lexer": "ipython2",
   "version": "2.7.6"
  }
 },
 "nbformat": 4,
 "nbformat_minor": 0
}
