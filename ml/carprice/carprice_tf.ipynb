{
 "cells": [
  {
   "cell_type": "code",
   "execution_count": null,
   "id": "initial_id",
   "metadata": {
    "collapsed": true
   },
   "outputs": [],
   "source": [
    "from datetime import datetime\n",
    "\n",
    "import numpy as np\n",
    "import pandas as pd\n",
    "import tensorflow as tf\n",
    "from sklearn.preprocessing import LabelEncoder\n",
    "from tensorflow import keras"
   ]
  },
  {
   "cell_type": "code",
   "execution_count": null,
   "outputs": [],
   "source": [
    "# https://www.kaggle.com/datasets/austinreese/craigslist-carstrucks-data\n",
    "df = pd.read_csv(\"/Users/akapralov/tmp/vehicles.csv\")\n",
    "df"
   ],
   "metadata": {
    "collapsed": false
   },
   "id": "1a205741e1359cf9"
  },
  {
   "cell_type": "code",
   "execution_count": null,
   "outputs": [],
   "source": [
    "columns = ['price', 'year', 'manufacturer', 'model']\n",
    "df = df.dropna(subset=columns).filter(items=columns).query(\n",
    "    'price >= 5_000 & price <= 100_000 & year >= 2000')\n",
    "df"
   ],
   "metadata": {
    "collapsed": false
   },
   "id": "8488c8746d7974ff"
  },
  {
   "cell_type": "code",
   "execution_count": null,
   "outputs": [],
   "source": [
    "car_features = df.copy()\n",
    "price_labels = car_features.pop('price')\n",
    "car_features"
   ],
   "metadata": {
    "collapsed": false
   },
   "id": "3b4bab2440af8ba1"
  },
  {
   "cell_type": "code",
   "execution_count": null,
   "outputs": [],
   "source": [
    "car_features['model'] = car_features.apply(lambda r: r['model'].split(' ')[0], axis=1)\n",
    "\n",
    "model_encoder = LabelEncoder()\n",
    "model_encoder.fit(np.array(car_features['model']))\n",
    "car_features['model'] = model_encoder.transform(np.array(car_features['model']))\n",
    "\n",
    "manufacturer_encoder = LabelEncoder()\n",
    "manufacturer_encoder.fit(np.array(car_features['manufacturer']))\n",
    "car_features['manufacturer'] = manufacturer_encoder.transform(\n",
    "    np.array(car_features['manufacturer']))\n",
    "\n",
    "current_year = datetime.now().year\n",
    "car_features['year'] = car_features.apply(lambda r: current_year - r['year'], axis=1)\n",
    "\n",
    "car_features"
   ],
   "metadata": {
    "collapsed": false
   },
   "id": "c2945324e35a5018"
  },
  {
   "cell_type": "code",
   "execution_count": null,
   "outputs": [],
   "source": [
    "normalizer = tf.keras.layers.Normalization(axis=-1)\n",
    "normalizer.adapt(np.array(car_features))\n",
    "\n",
    "normalizer.mean.numpy()"
   ],
   "metadata": {
    "collapsed": false
   },
   "id": "602586cf80397bea"
  },
  {
   "cell_type": "code",
   "execution_count": null,
   "outputs": [],
   "source": [
    "model = keras.models.Sequential([\n",
    "  normalizer,\n",
    "  keras.layers.Dense(2048, activation=\"relu\"),\n",
    "  keras.layers.Dense(1)\n",
    "])\n",
    "model.compile(\n",
    "    loss=\"mean_squared_error\",\n",
    "    optimizer=tf.keras.optimizers.legacy.Adam(learning_rate=0.1),\n",
    "    metrics=['mae', 'mse']\n",
    ")\n",
    "model.summary()\n"
   ],
   "metadata": {
    "collapsed": false
   },
   "id": "b264a9c7ef66747b"
  },
  {
   "cell_type": "code",
   "execution_count": null,
   "outputs": [],
   "source": [
    "history = model.fit(car_features, price_labels, epochs=100, validation_split=0.2)"
   ],
   "metadata": {
    "collapsed": false
   },
   "id": "7bf96a5e12fe2955"
  },
  {
   "cell_type": "code",
   "execution_count": null,
   "outputs": [],
   "source": [
    "cars = pd.DataFrame(\n",
    "    data=[\n",
    "      (5, 'toyota', '4runner'),\n",
    "      (10, 'toyota', 'tacoma'),\n",
    "      (7, 'ford', 'focus'),\n",
    "      (3, 'volkswagen', 'jetta'),\n",
    "    ],\n",
    "    columns=['year', 'manufacturer', 'model']\n",
    ")\n",
    "cars"
   ],
   "metadata": {
    "collapsed": false
   },
   "id": "c00880cc62d70722"
  },
  {
   "cell_type": "code",
   "execution_count": null,
   "outputs": [],
   "source": [
    "X_test = cars.copy()\n",
    "X_test['manufacturer'] = manufacturer_encoder.transform(X_test['manufacturer'])\n",
    "X_test['model'] = model_encoder.transform(X_test['model'])\n",
    "X_test"
   ],
   "metadata": {
    "collapsed": false
   },
   "id": "7d34c41f962be185"
  },
  {
   "cell_type": "code",
   "execution_count": null,
   "outputs": [],
   "source": [
    "model.predict(X_test)"
   ],
   "metadata": {
    "collapsed": false
   },
   "id": "1cd7fc4bf18afb33"
  },
  {
   "cell_type": "code",
   "execution_count": null,
   "outputs": [],
   "source": [],
   "metadata": {
    "collapsed": false
   },
   "id": "ac812d671e0556c2"
  }
 ],
 "metadata": {
  "kernelspec": {
   "display_name": "Python 3",
   "language": "python",
   "name": "python3"
  },
  "language_info": {
   "codemirror_mode": {
    "name": "ipython",
    "version": 2
   },
   "file_extension": ".py",
   "mimetype": "text/x-python",
   "name": "python",
   "nbconvert_exporter": "python",
   "pygments_lexer": "ipython2",
   "version": "2.7.6"
  }
 },
 "nbformat": 4,
 "nbformat_minor": 5
}
