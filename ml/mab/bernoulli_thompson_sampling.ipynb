{
 "cells": [
  {
   "cell_type": "code",
   "execution_count": null,
   "metadata": {
    "collapsed": true
   },
   "outputs": [],
   "source": [
    "import numpy as np\n",
    "import plotly.express as px"
   ]
  },
  {
   "cell_type": "code",
   "execution_count": null,
   "outputs": [],
   "source": [
    "class BernoulliBandit:\n",
    "  def __init__(self, k: int):\n",
    "    self.arms = []\n",
    "    for i in range(k):\n",
    "      self.arms.append(np.random.random())\n",
    "\n",
    "  def pull(self, arm: int) -> bool:\n",
    "    p = self.arms[arm]\n",
    "    return np.random.random() < p\n",
    "\n",
    "  def __str__(self):\n",
    "    return \"{}\".format(self.arms)\n"
   ],
   "metadata": {
    "collapsed": false
   }
  },
  {
   "cell_type": "code",
   "execution_count": null,
   "outputs": [],
   "source": [
    "bernoulli_bandit = BernoulliBandit(10)"
   ],
   "metadata": {
    "collapsed": false
   }
  },
  {
   "cell_type": "code",
   "execution_count": null,
   "outputs": [],
   "source": [
    "class BetaDistribution:\n",
    "  def __init__(self, a: float, b: float):\n",
    "    self.a = a\n",
    "    self.b = b\n",
    "\n",
    "\n",
    "class Agent:\n",
    "  def __init__(self, k: int):\n",
    "    self.estimates = []\n",
    "    self.last_action = -1\n",
    "\n",
    "    for i in range(k):\n",
    "      self.estimates.append(BetaDistribution(a=1, b=1))\n",
    "\n",
    "  def choose(self):\n",
    "    max_i = 0\n",
    "    max_v = 0\n",
    "\n",
    "    for i in range(len(self.estimates)):\n",
    "      beta_distribution = self.estimates[i]\n",
    "      v = np.random.beta(beta_distribution.a, beta_distribution.b)\n",
    "      if max_v < v:\n",
    "        max_v = v\n",
    "        max_i = i\n",
    "\n",
    "    self.last_action = max_i\n",
    "    return max_i\n",
    "\n",
    "  def observe(self, reward: bool):\n",
    "    estimate = self.estimates[self.last_action]\n",
    "    if reward:\n",
    "      estimate.a += 1\n",
    "    else:\n",
    "      estimate.b += 1"
   ],
   "metadata": {
    "collapsed": false
   }
  },
  {
   "cell_type": "code",
   "execution_count": null,
   "outputs": [],
   "source": [
    "print(bernoulli_bandit)\n",
    "\n",
    "for n in [10, 100, 1000]:\n",
    "  agent = Agent(len(bernoulli_bandit.arms))\n",
    "  arms_chosen = []\n",
    "  for i in range(n):\n",
    "    arm = agent.choose()\n",
    "    arms_chosen.append(arm)\n",
    "    reward = bernoulli_bandit.pull(arm)\n",
    "    agent.observe(reward)\n",
    "  px.histogram(arms_chosen, labels={\"value\": \"arm #\"}, title=\"{} iterations\".format(n)).show()\n"
   ],
   "metadata": {
    "collapsed": false
   }
  },
  {
   "cell_type": "code",
   "execution_count": null,
   "outputs": [],
   "source": [
    "print(bernoulli_bandit)\n",
    "\n",
    "best_arm = np.argmax(bernoulli_bandit.arms)\n",
    "\n",
    "best_arm_percentage = {}\n",
    "win_percentage = {}\n",
    "for n in range(100, 10100, 100):\n",
    "  agent = Agent(len(bernoulli_bandit.arms))\n",
    "  best_arm_chosen_times = 0\n",
    "  wins = 0\n",
    "  for i in range(n):\n",
    "    arm = agent.choose()\n",
    "    if arm == best_arm:\n",
    "      best_arm_chosen_times += 1\n",
    "    arms_chosen.append(arm)\n",
    "    reward = bernoulli_bandit.pull(arm)\n",
    "    wins += 1 if reward else 0\n",
    "    agent.observe(reward)\n",
    "\n",
    "  best_arm_percentage[n] = (best_arm_chosen_times / float(n))\n",
    "  win_percentage[n] = (wins / float(n))\n",
    "\n",
    "px.line(x=best_arm_percentage.keys(), y=best_arm_percentage.values(), labels={\"x\": \"Iterations\", \"y\": \"Best arm chosen (%)\"}).show()\n",
    "px.line(x=win_percentage.keys(), y=win_percentage.values(), labels={\"x\": \"Iterations\", \"y\": \"Wins (%)\"}).show()\n"
   ],
   "metadata": {
    "collapsed": false
   }
  }
 ],
 "metadata": {
  "kernelspec": {
   "display_name": "Python 3",
   "language": "python",
   "name": "python3"
  },
  "language_info": {
   "codemirror_mode": {
    "name": "ipython",
    "version": 2
   },
   "file_extension": ".py",
   "mimetype": "text/x-python",
   "name": "python",
   "nbconvert_exporter": "python",
   "pygments_lexer": "ipython2",
   "version": "2.7.6"
  }
 },
 "nbformat": 4,
 "nbformat_minor": 0
}
