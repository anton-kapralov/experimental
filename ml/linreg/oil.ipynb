{
 "cells": [
  {
   "cell_type": "code",
   "execution_count": null,
   "metadata": {
    "collapsed": true,
    "ExecuteTime": {
     "start_time": "2023-04-26T22:17:07.324886Z",
     "end_time": "2023-04-26T22:17:07.337974Z"
    }
   },
   "outputs": [],
   "source": [
    "from sklearn.linear_model import LinearRegression\n",
    "import plotly.express as px\n",
    "import numpy as np\n",
    "import plotly.graph_objects as go"
   ]
  },
  {
   "cell_type": "code",
   "execution_count": null,
   "outputs": [],
   "source": [
    "years = []\n",
    "for i in range(0, 31, 5):\n",
    "  years.append(i)\n",
    "\n",
    "consumptions = [60_083, 66_533, 70_099, 76_784, 84_077, 87_302, 94_071]\n",
    "fig = px.scatter(x=years, y=consumptions, width=600)\n",
    "fig.show()"
   ],
   "metadata": {
    "collapsed": false,
    "ExecuteTime": {
     "start_time": "2023-04-26T22:10:57.778499Z",
     "end_time": "2023-04-26T22:10:57.782149Z"
    }
   }
  },
  {
   "cell_type": "code",
   "execution_count": null,
   "outputs": [],
   "source": [
    "X, y = np.reshape(years, (-1, 1)), np.reshape(consumptions, (-1, 1))"
   ],
   "metadata": {
    "collapsed": false,
    "ExecuteTime": {
     "start_time": "2023-04-26T22:11:23.911408Z",
     "end_time": "2023-04-26T22:11:23.920142Z"
    }
   }
  },
  {
   "cell_type": "code",
   "execution_count": null,
   "outputs": [],
   "source": [
    "lin_reg = LinearRegression()\n",
    "lin_reg.fit(X, y)\n",
    "lin_reg.coef_[0][0], lin_reg.intercept_[0]"
   ],
   "metadata": {
    "collapsed": false,
    "ExecuteTime": {
     "start_time": "2023-04-26T22:11:30.701502Z",
     "end_time": "2023-04-26T22:11:30.706798Z"
    }
   }
  },
  {
   "cell_type": "code",
   "execution_count": null,
   "outputs": [],
   "source": [
    "X_b = np.c_[np.ones((len(X), 1)), X]\n",
    "X_b\n"
   ],
   "metadata": {
    "collapsed": false,
    "ExecuteTime": {
     "start_time": "2023-04-26T22:13:13.817685Z",
     "end_time": "2023-04-26T22:13:13.824964Z"
    }
   }
  },
  {
   "cell_type": "code",
   "execution_count": null,
   "outputs": [],
   "source": [
    "theta_best_svf, _, _, _ = np.linalg.lstsq(X_b, y, rcond=1e-6)\n",
    "theta_best_svf"
   ],
   "metadata": {
    "collapsed": false,
    "ExecuteTime": {
     "start_time": "2023-04-26T22:14:39.247911Z",
     "end_time": "2023-04-26T22:14:39.254177Z"
    }
   }
  },
  {
   "cell_type": "code",
   "execution_count": null,
   "outputs": [],
   "source": [
    "k = theta_best_svf[1][0]\n",
    "b = theta_best_svf[0][0]\n",
    "\n",
    "fig = px.scatter(x=years, y=consumptions, width=600)\n",
    "x_ = [0, 17, 32, 35, 37]\n",
    "y_ = []\n",
    "for v in x_:\n",
    "  y_.append(k * v + b)\n",
    "fig.add_trace(go.Scatter(x=x_, y=y_))\n",
    "fig.show()"
   ],
   "metadata": {
    "collapsed": false,
    "ExecuteTime": {
     "start_time": "2023-04-26T22:21:21.063877Z",
     "end_time": "2023-04-26T22:21:21.085055Z"
    }
   }
  }
 ],
 "metadata": {
  "kernelspec": {
   "display_name": "Python 3",
   "language": "python",
   "name": "python3"
  },
  "language_info": {
   "codemirror_mode": {
    "name": "ipython",
    "version": 2
   },
   "file_extension": ".py",
   "mimetype": "text/x-python",
   "name": "python",
   "nbconvert_exporter": "python",
   "pygments_lexer": "ipython2",
   "version": "2.7.6"
  }
 },
 "nbformat": 4,
 "nbformat_minor": 0
}
