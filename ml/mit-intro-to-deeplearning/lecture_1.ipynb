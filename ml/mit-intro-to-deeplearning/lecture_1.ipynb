{
 "cells": [
  {
   "cell_type": "code",
   "id": "initial_id",
   "metadata": {
    "collapsed": true
   },
   "source": [
    "import torch\n",
    "from torch import nn\n",
    "\n",
    "print(torch.__version__)"
   ],
   "outputs": [],
   "execution_count": null
  },
  {
   "metadata": {},
   "cell_type": "code",
   "source": [
    "class MyDenseLayer(nn.Module):\n",
    "    def __init__(self, input_dim, output_dim):\n",
    "        super(MyDenseLayer, self).__init__()\n",
    "\n",
    "        self.W = nn.Parameter(torch.randn(input_dim, output_dim, requires_grad=True))\n",
    "        self.b = nn.Parameter(torch.randn(1, output_dim, requires_grad=True))\n",
    "\n",
    "    def forward(self, inputs):\n",
    "        z = torch.matmul(inputs, self.W) + self.b\n",
    "        print(z)\n",
    "        return torch.sigmoid(z)"
   ],
   "id": "b1b2efa59a629dce",
   "outputs": [],
   "execution_count": null
  },
  {
   "metadata": {},
   "cell_type": "code",
   "source": [
    "layer = MyDenseLayer(3, 2)\n",
    "layer.forward(torch.tensor([[1., 2., 3.], [4., 5., 6.]]))\n"
   ],
   "id": "62ae36c7b7576502",
   "outputs": [],
   "execution_count": null
  },
  {
   "metadata": {},
   "cell_type": "code",
   "source": [
    "layer2 = nn.Linear(3, 2)\n",
    "torch.sigmoid(layer2.forward(torch.tensor([[1.,2.,3.], [4.,5.,6.], [7.,8.,9.]])))"
   ],
   "id": "dcfeeb60aab67558",
   "outputs": [],
   "execution_count": null
  }
 ],
 "metadata": {
  "kernelspec": {
   "display_name": "Python 3",
   "language": "python",
   "name": "python3"
  },
  "language_info": {
   "codemirror_mode": {
    "name": "ipython",
    "version": 2
   },
   "file_extension": ".py",
   "mimetype": "text/x-python",
   "name": "python",
   "nbconvert_exporter": "python",
   "pygments_lexer": "ipython2",
   "version": "2.7.6"
  }
 },
 "nbformat": 4,
 "nbformat_minor": 5
}
