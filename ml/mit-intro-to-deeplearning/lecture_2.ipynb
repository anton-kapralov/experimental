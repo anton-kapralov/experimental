{
 "cells": [
  {
   "cell_type": "code",
   "id": "initial_id",
   "metadata": {
    "collapsed": true
   },
   "source": [
    "import torch\n",
    "from torch import nn\n",
    "\n",
    "print(torch.__version__)"
   ],
   "outputs": [],
   "execution_count": null
  },
  {
   "metadata": {},
   "cell_type": "code",
   "source": [
    "class MyRNNCell(nn.Module):\n",
    "    def __init__(self, rnn_units, input_dim, output_dim):\n",
    "        super(MyRNNCell, self).__init__()\n",
    "\n",
    "        self.W_xh = nn.Parameter(torch.randn(input_dim, rnn_units, requires_grad=True))\n",
    "        self.W_hh = nn.Parameter(torch.randn(rnn_units, rnn_units, requires_grad=True))\n",
    "        self.W_hy = nn.Parameter(torch.randn(rnn_units, output_dim, requires_grad=True))\n",
    "\n",
    "        self.h = torch.zeros(1, rnn_units)\n",
    "\n",
    "    def forward(self, x):\n",
    "        a = torch.matmul(self.h, self.W_hh)\n",
    "        print(f\"a.shape {a.shape}\")\n",
    "        b = torch.matmul(x, self.W_xh)\n",
    "        print(f\"b.shape {b.shape}\")\n",
    "        g = a + b\n",
    "        print(f\"g.shape {g.shape}\")\n",
    "        self.h = torch.tanh(g)\n",
    "        print(f\"h.shape {self.h.shape}\")\n",
    "        output = torch.matmul(self.h, self.W_hy)\n",
    "        print(f\"output.shape {output.shape}\")\n",
    "\n",
    "        return output, self.h"
   ],
   "id": "250e6ea2530ebfc8",
   "outputs": [],
   "execution_count": null
  },
  {
   "metadata": {},
   "cell_type": "code",
   "source": [
    "cell = MyRNNCell(5, 3, 1)\n",
    "cell.forward(torch.tensor([[1., 2., 3.], [4., 5., 6.]]))"
   ],
   "id": "d03cb61d63220ac7",
   "outputs": [],
   "execution_count": null
  },
  {
   "metadata": {},
   "cell_type": "code",
   "source": "torch.tensor([[1, 2]]) + torch.tensor([[10, 20], [30, 40]])",
   "id": "1c01842d0c62716e",
   "outputs": [],
   "execution_count": null
  },
  {
   "metadata": {},
   "cell_type": "code",
   "source": "",
   "id": "1088636b738bf84d",
   "outputs": [],
   "execution_count": null
  }
 ],
 "metadata": {
  "kernelspec": {
   "display_name": "Python 3",
   "language": "python",
   "name": "python3"
  },
  "language_info": {
   "codemirror_mode": {
    "name": "ipython",
    "version": 2
   },
   "file_extension": ".py",
   "mimetype": "text/x-python",
   "name": "python",
   "nbconvert_exporter": "python",
   "pygments_lexer": "ipython2",
   "version": "2.7.6"
  }
 },
 "nbformat": 4,
 "nbformat_minor": 5
}
