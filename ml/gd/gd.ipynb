{
 "cells": [
  {
   "cell_type": "code",
   "execution_count": null,
   "id": "54426e04",
   "metadata": {},
   "outputs": [],
   "source": [
    "import plotly.express as px\n",
    "import pandas"
   ]
  },
  {
   "cell_type": "code",
   "execution_count": null,
   "outputs": [],
   "source": [
    "df = pandas.read_csv('advertising.csv')\n"
   ],
   "metadata": {
    "collapsed": false
   }
  },
  {
   "cell_type": "code",
   "execution_count": null,
   "outputs": [],
   "source": [
    "fig = px.scatter(df, y=\"sales\", x=\"radio\")\n",
    "fig.show()\n"
   ],
   "metadata": {
    "collapsed": false
   }
  },
  {
   "cell_type": "code",
   "execution_count": null,
   "outputs": [],
   "source": [
    "def mse(xs, ys, w, b):\n",
    "  e = 0.0\n",
    "\n",
    "  n = len(xs)\n",
    "  for i in range(n):\n",
    "    e += (ys[i] - (w*xs[i] + b))**2\n",
    "  e /= float(n)\n",
    "\n",
    "  return e\n",
    "\n",
    "def update_w_and_b(xs, ys, w, b, a):\n",
    "  dl_dw = 0.0\n",
    "  dl_db = 0.0\n",
    "\n",
    "  n = len(xs)\n",
    "  for i in range(n):\n",
    "    dl_dw += -2 * xs[i] * (ys[i] - (w*xs[i] + b))\n",
    "    dl_db += -2  * (ys[i] - (w*xs[i] + b))\n",
    "  dl_dw /= float(n)\n",
    "  dl_db /= float(n)\n",
    "\n",
    "  w -= a * dl_dw\n",
    "  b -= a * dl_db\n",
    "\n",
    "  return w, b\n",
    "\n",
    "def train(xs, ys, w, b, a, epochs):\n",
    "  for i in range(epochs):\n",
    "    w, b = update_w_and_b(xs, ys, w, b, a)\n",
    "\n",
    "    if i % 400 == 0:\n",
    "      print(\"epoch: \", i, \"; loss: \", mse(xs, ys, w, b))\n",
    "\n",
    "  return w, b\n",
    "\n",
    "def predict(x, w, b):\n",
    "  return w * x + b\n",
    "\n",
    "w, b = train(df.radio, df.sales, 0.0, 0.0, 0.001, 8000)\n",
    "print(\"w: \", w, \"; b: \", b)\n"
   ],
   "metadata": {
    "collapsed": false
   }
  },
  {
   "cell_type": "code",
   "execution_count": null,
   "outputs": [],
   "source": [
    "print(predict(23, w, b))\n"
   ],
   "metadata": {
    "collapsed": false
   }
  },
  {
   "cell_type": "code",
   "execution_count": null,
   "outputs": [],
   "source": [
    "min_x = df.radio.min()\n",
    "max_x = df.radio.max()\n",
    "fig.add_shape(type=\"line\", x0=min_x, y0=predict(min_x, w, b), x1=max_x, y1=predict(max_x, w, b))\n",
    "fig.show()\n"
   ],
   "metadata": {
    "collapsed": false
   }
  }
 ],
 "metadata": {
  "kernelspec": {
   "display_name": "Python 3 (ipykernel)",
   "language": "python",
   "name": "python3"
  },
  "language_info": {
   "codemirror_mode": {
    "name": "ipython",
    "version": 3
   },
   "file_extension": ".py",
   "mimetype": "text/x-python",
   "name": "python",
   "nbconvert_exporter": "python",
   "pygments_lexer": "ipython3",
   "version": "3.9.10"
  }
 },
 "nbformat": 4,
 "nbformat_minor": 5
}
