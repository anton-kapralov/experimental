{
 "cells": [
  {
   "cell_type": "code",
   "execution_count": null,
   "metadata": {
    "collapsed": true
   },
   "outputs": [],
   "source": [
    "import numpy as np\n",
    "import plotly.figure_factory as ff\n",
    "import plotly.graph_objects as go\n"
   ]
  },
  {
   "cell_type": "code",
   "execution_count": null,
   "outputs": [],
   "source": [
    "dists = []\n",
    "labels = []\n",
    "for i in range(1, 6):\n",
    "    dists.append(np.random.normal(0, i, 10000))\n",
    "    labels.append(i)\n",
    "fig = ff.create_distplot(dists, labels, bin_size=.1, histnorm='')\n",
    "fig.update_layout(autosize=False, height=800)\n",
    "fig.show()"
   ],
   "metadata": {
    "collapsed": false
   }
  },
  {
   "cell_type": "code",
   "execution_count": null,
   "outputs": [],
   "source": [
    "fig = go.Figure()\n",
    "for i in range(1, 6):\n",
    "    nums = np.random.normal(0, i, 10000)\n",
    "    fig.add_trace(go.Histogram(x=nums))\n",
    "fig.show()\n"
   ],
   "metadata": {
    "collapsed": false
   }
  },
  {
   "cell_type": "code",
   "execution_count": null,
   "outputs": [],
   "source": [
    "m = 0\n",
    "s = 0.1\n",
    "nums = np.random.normal(m, s, 100000)\n",
    "fig = ff.create_distplot(hist_data=[nums], group_labels=[\"1\"], bin_size=.001)\n",
    "fig.add_vline(m)\n",
    "for i in range(1, 4):\n",
    "    fig.add_vline(m + i * s)\n",
    "    fig.add_vline(m - i * s)\n",
    "fig.show()\n"
   ],
   "metadata": {
    "collapsed": false
   }
  },
  {
   "cell_type": "code",
   "execution_count": null,
   "outputs": [],
   "source": [
    "dists = []\n",
    "labels = []\n",
    "for i in range(1, 4):\n",
    "  dists.append(np.random.beta(i, i * 2, 10000))\n",
    "  labels.append(\"{}, {}\".format(i, i * 2))\n",
    "fig = ff.create_distplot(dists, labels, bin_size=.01)\n",
    "fig.show()\n"
   ],
   "metadata": {
    "collapsed": false
   }
  },
  {
   "cell_type": "code",
   "execution_count": null,
   "outputs": [],
   "source": [
    "nums = np.random.beta(90, 10, 10000)\n",
    "ff.create_distplot([nums], [\"Beta\"], bin_size=.001).show()\n"
   ],
   "metadata": {
    "collapsed": false
   }
  },
  {
   "cell_type": "code",
   "execution_count": null,
   "outputs": [],
   "source": [
    "nums = np.random.binomial(n=1, p=0.2, size=1000)\n",
    "print(np.sum(nums))\n"
   ],
   "metadata": {
    "collapsed": false
   }
  }
 ],
 "metadata": {
  "kernelspec": {
   "display_name": "Python 3",
   "language": "python",
   "name": "python3"
  },
  "language_info": {
   "codemirror_mode": {
    "name": "ipython",
    "version": 2
   },
   "file_extension": ".py",
   "mimetype": "text/x-python",
   "name": "python",
   "nbconvert_exporter": "python",
   "pygments_lexer": "ipython2",
   "version": "2.7.6"
  }
 },
 "nbformat": 4,
 "nbformat_minor": 0
}
